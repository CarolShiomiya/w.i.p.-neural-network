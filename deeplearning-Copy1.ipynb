{
 "cells": [
  {
   "cell_type": "code",
   "execution_count": 1,
   "metadata": {},
   "outputs": [],
   "source": [
    "import numpy as np\n",
    "#uを活性化してzにする\n",
    "def relu(u):\n",
    "    z=np.zeros(len(u))\n",
    "    z[0]=1\n",
    "    for i in range(len(u)-1):\n",
    "        z[i+1]=u[i+1]*(u[i+1]>0)\n",
    "    return z"
   ]
  },
  {
   "cell_type": "code",
   "execution_count": 2,
   "metadata": {},
   "outputs": [],
   "source": [
    "#dfuをつくる\n",
    "def dfu(u):\n",
    "    dfu=np.zeros(len(u))\n",
    "    dfu[0]=0\n",
    "    for i in range(len(u)-1):\n",
    "        dfu[i+1]=1*(u[i+1]>0)\n",
    "    return dfu"
   ]
  },
  {
   "cell_type": "code",
   "execution_count": 3,
   "metadata": {},
   "outputs": [
    {
     "data": {
      "text/plain": [
       "array([[0., 0., 0.],\n",
       "       [0., 0., 0.],\n",
       "       [0., 0., 0.],\n",
       "       [0., 0., 0.]])"
      ]
     },
     "execution_count": 3,
     "metadata": {},
     "output_type": "execute_result"
    }
   ],
   "source": [
    "np.zeros((4,3))"
   ]
  },
  {
   "cell_type": "code",
   "execution_count": 4,
   "metadata": {},
   "outputs": [],
   "source": [
    "import numpy as np\n",
    "\n",
    "#ベクトルと行列をつくっておく\n",
    "#forward\n",
    "z1=np.ones(785)\n",
    "z1[0]=1\n",
    "\n",
    "w2=np.ones((21,785))\n",
    "u2=np.dot(w2,z1)\n",
    "#活性化関数を噛ませる\n",
    "z2=relu(u2)\n",
    "w3=np.ones((10,21))\n",
    "u3=np.dot(w3,z2)\n",
    "y=u3"
   ]
  },
  {
   "cell_type": "code",
   "execution_count": 5,
   "metadata": {},
   "outputs": [],
   "source": [
    "d=np.array((1,0,0,0,0,0,0,0,0,0))\n",
    "#back propagation\n",
    "delta3=d-y\n",
    "dfu2=dfu(u2)\n",
    "delta2=dfu2*(np.dot(w3.T,delta3))\n"
   ]
  },
  {
   "cell_type": "code",
   "execution_count": null,
   "metadata": {},
   "outputs": [],
   "source": []
  },
  {
   "cell_type": "code",
   "execution_count": 6,
   "metadata": {},
   "outputs": [],
   "source": [
    "#ベクトルを横ベクトルにする関数\n",
    "def l_(x):\n",
    "    y=np.zeros((1,len(x)))\n",
    "    for i in range(len(x)):\n",
    "        y[0,i]=x[i]\n",
    "    return y"
   ]
  },
  {
   "cell_type": "code",
   "execution_count": 7,
   "metadata": {},
   "outputs": [],
   "source": [
    "#grad出す\n",
    "dw2=np.dot(np.c_[delta2],l_(z1))\n",
    "dw3=np.dot(np.c_[delta3],l_(z2))\n",
    "\n",
    "    "
   ]
  },
  {
   "cell_type": "code",
   "execution_count": 8,
   "metadata": {},
   "outputs": [],
   "source": [
    "#勾配降下\n",
    "w2=w2-0.1*dw2\n",
    "w3=w3-0.1*dw3\n"
   ]
  },
  {
   "cell_type": "code",
   "execution_count": 9,
   "metadata": {},
   "outputs": [],
   "source": [
    "#grad出して勾配降下する\n",
    "def dw(delta,z):\n",
    "    dw=np.dot(np.c_[delta],l_(z))\n",
    "    return dw\n",
    "\n",
    "w2=desc(w2,delta2,z1)\n",
    "w3=desc(w3,delta3,z2)\n"
   ]
  },
  {
   "cell_type": "code",
   "execution_count": 11,
   "metadata": {
    "scrolled": true
   },
   "outputs": [
    {
     "name": "stdout",
     "output_type": "stream",
     "text": [
      "WARNING:tensorflow:From <ipython-input-11-8bf8ae5a5303>:2: read_data_sets (from tensorflow.contrib.learn.python.learn.datasets.mnist) is deprecated and will be removed in a future version.\n",
      "Instructions for updating:\n",
      "Please use alternatives such as official/mnist/dataset.py from tensorflow/models.\n",
      "WARNING:tensorflow:From /home/akihiko/.local/lib/python2.7/site-packages/tensorflow/contrib/learn/python/learn/datasets/mnist.py:260: maybe_download (from tensorflow.contrib.learn.python.learn.datasets.base) is deprecated and will be removed in a future version.\n",
      "Instructions for updating:\n",
      "Please write your own downloading logic.\n",
      "WARNING:tensorflow:From /home/akihiko/.local/lib/python2.7/site-packages/tensorflow/contrib/learn/python/learn/datasets/base.py:252: wrapped_fn (from tensorflow.contrib.learn.python.learn.datasets.base) is deprecated and will be removed in a future version.\n",
      "Instructions for updating:\n",
      "Please use urllib or similar directly.\n",
      "Successfully downloaded train-images-idx3-ubyte.gz 9912422 bytes.\n",
      "WARNING:tensorflow:From /home/akihiko/.local/lib/python2.7/site-packages/tensorflow/contrib/learn/python/learn/datasets/mnist.py:262: extract_images (from tensorflow.contrib.learn.python.learn.datasets.mnist) is deprecated and will be removed in a future version.\n",
      "Instructions for updating:\n",
      "Please use tf.data to implement this functionality.\n",
      "Extracting MNIST_data/train-images-idx3-ubyte.gz\n",
      "Successfully downloaded train-labels-idx1-ubyte.gz 28881 bytes.\n",
      "WARNING:tensorflow:From /home/akihiko/.local/lib/python2.7/site-packages/tensorflow/contrib/learn/python/learn/datasets/mnist.py:267: extract_labels (from tensorflow.contrib.learn.python.learn.datasets.mnist) is deprecated and will be removed in a future version.\n",
      "Instructions for updating:\n",
      "Please use tf.data to implement this functionality.\n",
      "Extracting MNIST_data/train-labels-idx1-ubyte.gz\n",
      "WARNING:tensorflow:From /home/akihiko/.local/lib/python2.7/site-packages/tensorflow/contrib/learn/python/learn/datasets/mnist.py:110: dense_to_one_hot (from tensorflow.contrib.learn.python.learn.datasets.mnist) is deprecated and will be removed in a future version.\n",
      "Instructions for updating:\n",
      "Please use tf.one_hot on tensors.\n",
      "Successfully downloaded t10k-images-idx3-ubyte.gz 1648877 bytes.\n",
      "Extracting MNIST_data/t10k-images-idx3-ubyte.gz\n",
      "Successfully downloaded t10k-labels-idx1-ubyte.gz 4542 bytes.\n",
      "Extracting MNIST_data/t10k-labels-idx1-ubyte.gz\n",
      "WARNING:tensorflow:From /home/akihiko/.local/lib/python2.7/site-packages/tensorflow/contrib/learn/python/learn/datasets/mnist.py:290: __init__ (from tensorflow.contrib.learn.python.learn.datasets.mnist) is deprecated and will be removed in a future version.\n",
      "Instructions for updating:\n",
      "Please use alternatives such as official/mnist/dataset.py from tensorflow/models.\n"
     ]
    }
   ],
   "source": [
    "from tensorflow.examples.tutorials.mnist import input_data\n",
    "mnist = input_data.read_data_sets(\"MNIST_data/\", one_hot=True)"
   ]
  },
  {
   "cell_type": "code",
   "execution_count": 63,
   "metadata": {},
   "outputs": [
    {
     "name": "stderr",
     "output_type": "stream",
     "text": [
      "/usr/local/lib/python2.7/dist-packages/ipykernel_launcher.py:36: RuntimeWarning: invalid value encountered in multiply\n"
     ]
    }
   ],
   "source": [
    "import numpy as np\n",
    "\n",
    "#初期設定\n",
    "z1=np.ones(785)\n",
    "z1[0]=1\n",
    "\n",
    "w2=np.ones((21,785))\n",
    "u2=np.dot(w2,z1)\n",
    "#活性化関数を噛ませる\n",
    "z2=relu(u2)\n",
    "w3=np.zeros((10,21))\n",
    "u3=np.dot(w3,z2)\n",
    "y=u3\n",
    "d=np.array((1,0,0,0,0,0,0,0,0,0))\n",
    "#back propagation\n",
    "delta3=d-y\n",
    "dfu2=dfu(u2)\n",
    "delta2=dfu2*(np.dot(w3.T,delta3))\n",
    "\n",
    "\n",
    "#イテレーション\n",
    "for batch_num in range(60):\n",
    "    grad2=np.zeros((21,785))\n",
    "    grad3=np.zeros((10,21))\n",
    "    for i in range(1000):\n",
    "        kyoshi=mnist.train.next_batch(1)\n",
    "        z1[1:785]=kyoshi[0][0]\n",
    "        u2=np.dot(w2,z1)\n",
    "        z2=relu(u2)\n",
    "        u3=np.dot(w3,z2)\n",
    "        y=u3\n",
    "        #back propagation\n",
    "        d=kyoshi[1][0]\n",
    "        delta3=d-y\n",
    "        dfu2=dfu(u2)\n",
    "        delta2=dfu2*(np.dot(w3.T,delta3))\n",
    "        \n",
    "        dw2=np.dot(np.c_[delta2],l_(z1))\n",
    "        dw3=np.dot(np.c_[delta3],l_(z2))\n",
    "        \n",
    "        grad2=grad2+dw2\n",
    "        grad3=grad3+dw3\n",
    "    \n",
    "    w2=w2-0.00001*grad2\n",
    "    w3=w3-0.00001*grad3"
   ]
  },
  {
   "cell_type": "code",
   "execution_count": 64,
   "metadata": {},
   "outputs": [
    {
     "data": {
      "text/plain": [
       "array([[nan, nan, nan, ..., nan, nan, nan],\n",
       "       [nan, nan, nan, ..., nan, nan, nan],\n",
       "       [nan, nan, nan, ..., nan, nan, nan],\n",
       "       ...,\n",
       "       [nan, nan, nan, ..., nan, nan, nan],\n",
       "       [nan, nan, nan, ..., nan, nan, nan],\n",
       "       [nan, nan, nan, ..., nan, nan, nan]])"
      ]
     },
     "execution_count": 64,
     "metadata": {},
     "output_type": "execute_result"
    }
   ],
   "source": [
    "w2"
   ]
  },
  {
   "cell_type": "code",
   "execution_count": 54,
   "metadata": {},
   "outputs": [
    {
     "name": "stdout",
     "output_type": "stream",
     "text": [
      "784\n",
      "[0. 0. 0. 0. 0. 0. 0. 0. 0. 1.]\n"
     ]
    }
   ],
   "source": [
    "a = mnist.train.next_batch(1)\n",
    "\n",
    "print(len(a[0][0]))\n",
    "print((a[1][0]))"
   ]
  },
  {
   "cell_type": "code",
   "execution_count": 14,
   "metadata": {},
   "outputs": [],
   "source": [
    "#出来上がったニューラルネットワークをもとに、説明変数から非説明変数を予言（predict)する\n",
    "def nural_predict(setumei):\n",
    "    z1[1:5]=setumei\n",
    "    u2=np.dot(w2,z1)\n",
    "    z2=relu(u2)\n",
    "    u3=np.dot(w3,z2)\n",
    "    z3=relu(u3)\n",
    "    u4=np.dot(w4,z3)\n",
    "    y=u4\n",
    "    return y"
   ]
  },
  {
   "cell_type": "code",
   "execution_count": 3,
   "metadata": {},
   "outputs": [
    {
     "data": {
      "text/plain": [
       "[1, 2]"
      ]
     },
     "execution_count": 3,
     "metadata": {},
     "output_type": "execute_result"
    }
   ],
   "source": [
    "#トランプ４枚をもらう。それぞれのカードで、相手のカードと大きさ比べをする（大きい方が勝ち）\n",
    "#４戦して、勝ち数が多いほうが総合勝利とする。\n",
    "import random\n",
    "random.sample(,2)\n",
    "\n",
    "\n",
    "\n",
    "#説明変数はもらったカード[x1,x2,x3,x4]\n",
    "#被説明変数は総合勝利か総合引き分けか総合敗北かを1か0かで返した3次元ベクトル　例[1,0,0]（総合勝利）\n",
    "\n",
    "#このモデルが学習完了したならば、4枚もらった時点で勝てるかどうかが予測できるようになるだろう。\n",
    "\n",
    "#（シミュレーションによる仮想）教師データを作る。"
   ]
  },
  {
   "cell_type": "code",
   "execution_count": 17,
   "metadata": {},
   "outputs": [
    {
     "data": {
      "text/plain": [
       "[1, 2, 3, 4, 5, 6, 7, 8, 9, 10, 11, 12, 13]"
      ]
     },
     "execution_count": 17,
     "metadata": {},
     "output_type": "execute_result"
    }
   ],
   "source": [
    "list=range(1,14)\n",
    "list"
   ]
  },
  {
   "cell_type": "code",
   "execution_count": 19,
   "metadata": {},
   "outputs": [],
   "source": [
    "list.extend(list)"
   ]
  },
  {
   "cell_type": "code",
   "execution_count": 65,
   "metadata": {},
   "outputs": [],
   "source": [
    "def handgenerate():\n",
    "    hand=random.sample(list,8)\n",
    "    #print(hand)\n",
    "    firstgame=1*(hand[0]>hand[1])-1*(hand[1]>hand[0])\n",
    "    secondgame=1*(hand[2]>hand[3])-1*(hand[3]>hand[2])\n",
    "    thirdgame=1*(hand[4]>hand[5])-1*(hand[5]>hand[4])\n",
    "    fourthgame=1*(hand[6]>hand[7])-1*(hand[7]>hand[6])\n",
    "\n",
    "    score=firstgame+secondgame+thirdgame+fourthgame\n",
    "    import numpy as np\n",
    "    win=1*(score>0)\n",
    "    even=1*(score==0)\n",
    "    lose=1*(score<0)\n",
    "    y=np.array((win,even,lose))\n",
    "    x=np.array((hand[0],hand[2],hand[4],hand[6]))\n",
    "    return x,y"
   ]
  },
  {
   "cell_type": "code",
   "execution_count": 66,
   "metadata": {},
   "outputs": [
    {
     "name": "stdout",
     "output_type": "stream",
     "text": [
      "[[ 5. 10. 13. 12.]\n",
      " [11.  7. 12. 13.]\n",
      " [ 6.  4. 12. 11.]\n",
      " [ 6. 12.  3.  7.]\n",
      " [ 6.  1. 11. 12.]\n",
      " [ 2.  8.  7.  8.]\n",
      " [10.  9.  8.  5.]\n",
      " [10.  3. 11.  8.]\n",
      " [ 4.  1. 11.  9.]\n",
      " [ 7.  7. 12.  6.]]\n",
      "[[1. 0. 0.]\n",
      " [1. 0. 0.]\n",
      " [0. 1. 0.]\n",
      " [0. 0. 1.]\n",
      " [1. 0. 0.]\n",
      " [0. 0. 1.]\n",
      " [0. 1. 0.]\n",
      " [0. 1. 0.]\n",
      " [0. 0. 1.]\n",
      " [0. 1. 0.]]\n"
     ]
    }
   ],
   "source": [
    "#ゲームを１０万回やる\n",
    "n=10\n",
    "setumei=np.zeros((n,4))\n",
    "hisetumei=np.zeros((n,3))\n",
    "for i in range(n):\n",
    "    game=handgenerate()\n",
    "    setumei[i]=game[0]\n",
    "    hisetumei[i]=game[1]\n",
    "    \n",
    "print(setumei)\n",
    "print(hisetumei)"
   ]
  },
  {
   "cell_type": "code",
   "execution_count": 63,
   "metadata": {},
   "outputs": [
    {
     "data": {
      "text/plain": [
       "2"
      ]
     },
     "execution_count": 63,
     "metadata": {},
     "output_type": "execute_result"
    }
   ],
   "source": [
    "i"
   ]
  },
  {
   "cell_type": "code",
   "execution_count": 60,
   "metadata": {},
   "outputs": [
    {
     "data": {
      "text/plain": [
       "array([[13., 12.,  7.,  3.],\n",
       "       [ 0.,  0.,  0.,  0.],\n",
       "       [ 0.,  0.,  0.,  0.]])"
      ]
     },
     "execution_count": 60,
     "metadata": {},
     "output_type": "execute_result"
    }
   ],
   "source": [
    "hoge"
   ]
  },
  {
   "cell_type": "code",
   "execution_count": 61,
   "metadata": {},
   "outputs": [
    {
     "name": "stdout",
     "output_type": "stream",
     "text": [
      "[4, 7, 4, 8, 1, 13, 9, 2]\n"
     ]
    },
    {
     "data": {
      "text/plain": [
       "(array([4, 4, 1, 9]), array([0, 0, 1]))"
      ]
     },
     "execution_count": 61,
     "metadata": {},
     "output_type": "execute_result"
    }
   ],
   "source": [
    "handgenerate()"
   ]
  },
  {
   "cell_type": "code",
   "execution_count": null,
   "metadata": {},
   "outputs": [],
   "source": []
  }
 ],
 "metadata": {
  "kernelspec": {
   "display_name": "Python 3",
   "language": "python",
   "name": "python3"
  },
  "language_info": {
   "codemirror_mode": {
    "name": "ipython",
    "version": 2
   },
   "file_extension": ".py",
   "mimetype": "text/x-python",
   "name": "python",
   "nbconvert_exporter": "python",
   "pygments_lexer": "ipython2",
   "version": "2.7.14"
  }
 },
 "nbformat": 4,
 "nbformat_minor": 2
}
